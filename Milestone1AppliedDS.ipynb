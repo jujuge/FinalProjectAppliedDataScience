{
 "cells": [
  {
   "cell_type": "code",
   "execution_count": 3,
   "metadata": {},
   "outputs": [],
   "source": [
    "import numpy as np\n",
    "import pandas as pd\n",
    "import datetime\n",
    "from sklearn.preprocessing import MinMaxScaler\n",
    "from tensorflow import keras\n",
    "from tensorflow.keras.layers import Dense, LSTM, Dropout,Flatten\n",
    "from tensorflow.keras import Sequential\n",
    "#from keras.preprocessing.sequence import TimeseriesGenerator\n",
    "import matplotlib.pyplot as plt"
   ]
  },
  {
   "cell_type": "code",
   "execution_count": 4,
   "metadata": {},
   "outputs": [],
   "source": [
    "df = pd.read_csv(\"bitstampUSD_1-min_data_2012-01-01_to_2021-03-31.csv\")"
   ]
  },
  {
   "cell_type": "code",
   "execution_count": 7,
   "metadata": {},
   "outputs": [
    {
     "data": {
      "text/html": [
       "<div>\n",
       "<style scoped>\n",
       "    .dataframe tbody tr th:only-of-type {\n",
       "        vertical-align: middle;\n",
       "    }\n",
       "\n",
       "    .dataframe tbody tr th {\n",
       "        vertical-align: top;\n",
       "    }\n",
       "\n",
       "    .dataframe thead th {\n",
       "        text-align: right;\n",
       "    }\n",
       "</style>\n",
       "<table border=\"1\" class=\"dataframe\">\n",
       "  <thead>\n",
       "    <tr style=\"text-align: right;\">\n",
       "      <th></th>\n",
       "      <th>Timestamp</th>\n",
       "      <th>Open</th>\n",
       "      <th>High</th>\n",
       "      <th>Low</th>\n",
       "      <th>Close</th>\n",
       "      <th>Volume_(BTC)</th>\n",
       "      <th>Volume_(Currency)</th>\n",
       "      <th>Weighted_Price</th>\n",
       "    </tr>\n",
       "    <tr>\n",
       "      <th>Date</th>\n",
       "      <th></th>\n",
       "      <th></th>\n",
       "      <th></th>\n",
       "      <th></th>\n",
       "      <th></th>\n",
       "      <th></th>\n",
       "      <th></th>\n",
       "      <th></th>\n",
       "    </tr>\n",
       "  </thead>\n",
       "  <tbody>\n",
       "    <tr>\n",
       "      <th>2011-12-31</th>\n",
       "      <td>1325346930</td>\n",
       "      <td>4.465000</td>\n",
       "      <td>4.482500</td>\n",
       "      <td>4.465000</td>\n",
       "      <td>4.482500</td>\n",
       "      <td>23.829470</td>\n",
       "      <td>106.330084</td>\n",
       "      <td>4.471603</td>\n",
       "    </tr>\n",
       "    <tr>\n",
       "      <th>2012-01-01</th>\n",
       "      <td>1325419170</td>\n",
       "      <td>4.806667</td>\n",
       "      <td>4.806667</td>\n",
       "      <td>4.806667</td>\n",
       "      <td>4.806667</td>\n",
       "      <td>7.200667</td>\n",
       "      <td>35.259720</td>\n",
       "      <td>4.806667</td>\n",
       "    </tr>\n",
       "    <tr>\n",
       "      <th>2012-01-02</th>\n",
       "      <td>1325505570</td>\n",
       "      <td>5.000000</td>\n",
       "      <td>5.000000</td>\n",
       "      <td>5.000000</td>\n",
       "      <td>5.000000</td>\n",
       "      <td>19.048000</td>\n",
       "      <td>95.240000</td>\n",
       "      <td>5.000000</td>\n",
       "    </tr>\n",
       "    <tr>\n",
       "      <th>2012-01-03</th>\n",
       "      <td>1325591970</td>\n",
       "      <td>5.252500</td>\n",
       "      <td>5.252500</td>\n",
       "      <td>5.252500</td>\n",
       "      <td>5.252500</td>\n",
       "      <td>11.004660</td>\n",
       "      <td>58.100651</td>\n",
       "      <td>5.252500</td>\n",
       "    </tr>\n",
       "    <tr>\n",
       "      <th>2012-01-04</th>\n",
       "      <td>1325678370</td>\n",
       "      <td>5.200000</td>\n",
       "      <td>5.223333</td>\n",
       "      <td>5.200000</td>\n",
       "      <td>5.223333</td>\n",
       "      <td>11.914807</td>\n",
       "      <td>63.119577</td>\n",
       "      <td>5.208159</td>\n",
       "    </tr>\n",
       "  </tbody>\n",
       "</table>\n",
       "</div>"
      ],
      "text/plain": [
       "             Timestamp      Open      High       Low     Close  Volume_(BTC)  \\\n",
       "Date                                                                           \n",
       "2011-12-31  1325346930  4.465000  4.482500  4.465000  4.482500     23.829470   \n",
       "2012-01-01  1325419170  4.806667  4.806667  4.806667  4.806667      7.200667   \n",
       "2012-01-02  1325505570  5.000000  5.000000  5.000000  5.000000     19.048000   \n",
       "2012-01-03  1325591970  5.252500  5.252500  5.252500  5.252500     11.004660   \n",
       "2012-01-04  1325678370  5.200000  5.223333  5.200000  5.223333     11.914807   \n",
       "\n",
       "            Volume_(Currency)  Weighted_Price  \n",
       "Date                                           \n",
       "2011-12-31         106.330084        4.471603  \n",
       "2012-01-01          35.259720        4.806667  \n",
       "2012-01-02          95.240000        5.000000  \n",
       "2012-01-03          58.100651        5.252500  \n",
       "2012-01-04          63.119577        5.208159  "
      ]
     },
     "execution_count": 7,
     "metadata": {},
     "output_type": "execute_result"
    }
   ],
   "source": [
    "#change unix time stamp to readable\n",
    "df[\"Date\"] = pd.to_datetime(df[\"Timestamp\"],unit=\"s\").dt.date\n",
    "df=df.groupby(\"Date\").mean()\n",
    "df.head()"
   ]
  },
  {
   "cell_type": "code",
   "execution_count": 9,
   "metadata": {},
   "outputs": [
    {
     "data": {
      "text/plain": [
       "<AxesSubplot:xlabel='Date'>"
      ]
     },
     "execution_count": 9,
     "metadata": {},
     "output_type": "execute_result"
    },
    {
     "data": {
      "image/png": "[encoded data removed]",
      "text/plain": [
       "<Figure size 432x288 with 1 Axes>"
      ]
     },
     "metadata": {
      "needs_background": "light"
     },
     "output_type": "display_data"
    }
   ],
   "source": [
    "#rename weighted price to price, plot price over the years\n",
    "price_by_date=df[\"Weighted_Price\"].rename(\"Price\")\n",
    "price_by_date.plot()"
   ]
  },
  {
   "cell_type": "code",
   "execution_count": 20,
   "metadata": {},
   "outputs": [
    {
     "ename": "NameError",
     "evalue": "name 'btc_daily' is not defined",
     "output_type": "error",
     "traceback": [
      "\u001b[0;31m---------------------------------------------------------------------------\u001b[0m",
      "\u001b[0;31mNameError\u001b[0m                                 Traceback (most recent call last)",
      "\u001b[0;32m<ipython-input-20-0b8fa020ccef>\u001b[0m in \u001b[0;36m<module>\u001b[0;34m\u001b[0m\n\u001b[1;32m     11\u001b[0m     \u001b[0mprint\u001b[0m\u001b[0;34m(\u001b[0m\u001b[0mdf\u001b[0m\u001b[0;34m.\u001b[0m\u001b[0misnull\u001b[0m\u001b[0;34m(\u001b[0m\u001b[0;34m)\u001b[0m\u001b[0;34m.\u001b[0m\u001b[0msum\u001b[0m\u001b[0;34m(\u001b[0m\u001b[0;34m)\u001b[0m\u001b[0;34m)\u001b[0m\u001b[0;34m\u001b[0m\u001b[0;34m\u001b[0m\u001b[0m\n\u001b[1;32m     12\u001b[0m \u001b[0;34m\u001b[0m\u001b[0m\n\u001b[0;32m---> 13\u001b[0;31m \u001b[0mfill_missing\u001b[0m\u001b[0;34m(\u001b[0m\u001b[0mbtc_daily\u001b[0m\u001b[0;34m)\u001b[0m\u001b[0;34m\u001b[0m\u001b[0;34m\u001b[0m\u001b[0m\n\u001b[0m",
      "\u001b[0;31mNameError\u001b[0m: name 'btc_daily' is not defined"
     ]
    }
   ],
   "source": [
    "def fill_missing(df):\n",
    "    ### function to impute missing values using interpolation ###\n",
    "    df['Open'] = df['Open'].interpolate()\n",
    "    df['Close'] = df['Close'].interpolate()\n",
    "    df['Weighted_Price'] = df['Weighted_Price'].interpolate()\n",
    "    df['Volume_(BTC)'] = df['Volume_(BTC)'].interpolate()\n",
    "    df['Volume_(Currency)'] = df['Volume_(Currency)'].interpolate()\n",
    "    df['High'] = df['High'].interpolate()\n",
    "    df['Low'] = df['Low'].interpolate()\n",
    "    print(df.head())\n",
    "    print(df.isnull().sum())\n",
    "    \n",
    "fill_missing(btc_daily)"
   ]
  },
  {
   "cell_type": "code",
   "execution_count": 10,
   "metadata": {},
   "outputs": [],
   "source": [
    "# Prepare timesteps groups\n",
    "time_window = 15 # Time series are of (time_window - time_ahead) size\n",
    "time_ahead = 1 # Short forecast\n",
    "scaler=MinMaxScaler()\n",
    "length = len(price_by_date)\n",
    "price_scaled=scaler.fit_transform(pd.DataFrame(price_by_date))[:,-1]\n",
    "price_groups = []\n",
    "for i in range(0,length-time_window):\n",
    "    price_groups.append(price_scaled[i:i+time_window])\n",
    "\n",
    "price_groups = np.array(price_groups)\n",
    "price_groups=price_groups[...,np.newaxis]"
   ]
  },
  {
   "cell_type": "code",
   "execution_count": 11,
   "metadata": {},
   "outputs": [
    {
     "name": "stdout",
     "output_type": "stream",
     "text": [
      "(3192, 14, 1) (3192, 1, 1)\n",
      "(169, 14, 1) (169, 1, 1)\n"
     ]
    }
   ],
   "source": [
    "#split x and y\n",
    "split_rate = 0.95\n",
    "length = len(price_groups)\n",
    "X_train = price_groups[:int(length*(split_rate)), :-time_ahead]\n",
    "X_test =  price_groups[int(length*(split_rate)):, :-time_ahead]\n",
    "y_train = price_groups[:int(length*(split_rate)),  -time_ahead:]\n",
    "y_test =  price_groups[int(length*(split_rate)):,  -time_ahead:]\n",
    "print(X_train.shape,y_train.shape)\n",
    "print(X_test.shape,y_test.shape)"
   ]
  },
  {
   "cell_type": "code",
   "execution_count": 12,
   "metadata": {},
   "outputs": [
    {
     "name": "stdout",
     "output_type": "stream",
     "text": [
      "Epoch 1/40\n",
      "100/100 [==============================] - 9s 48ms/step - loss: 0.0015 - mse: 0.0015 - val_loss: 0.0060 - val_mse: 0.0060\n",
      "Epoch 2/40\n",
      "100/100 [==============================] - 5s 46ms/step - loss: 8.5204e-05 - mse: 8.5204e-05 - val_loss: 0.0141 - val_mse: 0.0141\n",
      "Epoch 3/40\n",
      "100/100 [==============================] - 4s 44ms/step - loss: 7.2893e-05 - mse: 7.2893e-05 - val_loss: 0.0094 - val_mse: 0.0094\n",
      "Epoch 4/40\n",
      "100/100 [==============================] - 4s 41ms/step - loss: 7.0399e-05 - mse: 7.0399e-05 - val_loss: 0.0095 - val_mse: 0.0095\n",
      "Epoch 5/40\n",
      "100/100 [==============================] - 4s 40ms/step - loss: 7.0517e-05 - mse: 7.0517e-05 - val_loss: 0.0073 - val_mse: 0.0073\n",
      "Epoch 6/40\n",
      "100/100 [==============================] - 5s 46ms/step - loss: 6.7297e-05 - mse: 6.7297e-05 - val_loss: 0.0052 - val_mse: 0.0052\n",
      "Epoch 7/40\n",
      "100/100 [==============================] - 4s 41ms/step - loss: 4.8540e-05 - mse: 4.8540e-05 - val_loss: 0.0033 - val_mse: 0.0033\n",
      "Epoch 8/40\n",
      "100/100 [==============================] - 4s 40ms/step - loss: 6.5330e-05 - mse: 6.5330e-05 - val_loss: 0.0064 - val_mse: 0.0064\n",
      "Epoch 9/40\n",
      "100/100 [==============================] - 4s 42ms/step - loss: 6.2448e-05 - mse: 6.2448e-05 - val_loss: 0.0038 - val_mse: 0.0038\n",
      "Epoch 10/40\n",
      "100/100 [==============================] - 5s 46ms/step - loss: 4.4458e-05 - mse: 4.4458e-05 - val_loss: 0.0030 - val_mse: 0.0030\n",
      "Epoch 11/40\n",
      "100/100 [==============================] - 4s 41ms/step - loss: 4.7922e-05 - mse: 4.7922e-05 - val_loss: 0.0025 - val_mse: 0.0025\n",
      "Epoch 12/40\n",
      "100/100 [==============================] - 4s 40ms/step - loss: 3.6097e-05 - mse: 3.6097e-05 - val_loss: 0.0043 - val_mse: 0.0043\n",
      "Epoch 13/40\n",
      "100/100 [==============================] - 4s 44ms/step - loss: 3.8986e-05 - mse: 3.8986e-05 - val_loss: 0.0024 - val_mse: 0.0024\n",
      "Epoch 14/40\n",
      "100/100 [==============================] - 4s 45ms/step - loss: 4.1808e-05 - mse: 4.1808e-05 - val_loss: 0.0031 - val_mse: 0.0031\n",
      "Epoch 15/40\n",
      "100/100 [==============================] - 4s 40ms/step - loss: 3.5729e-05 - mse: 3.5729e-05 - val_loss: 0.0017 - val_mse: 0.0017\n",
      "Epoch 16/40\n",
      "100/100 [==============================] - 6s 60ms/step - loss: 3.2766e-05 - mse: 3.2766e-05 - val_loss: 0.0038 - val_mse: 0.0038\n",
      "Epoch 17/40\n",
      "100/100 [==============================] - 5s 54ms/step - loss: 3.8704e-05 - mse: 3.8704e-05 - val_loss: 0.0029 - val_mse: 0.0029\n",
      "Epoch 18/40\n",
      "100/100 [==============================] - 5s 54ms/step - loss: 3.0625e-05 - mse: 3.0625e-05 - val_loss: 0.0018 - val_mse: 0.0018\n",
      "Epoch 19/40\n",
      "100/100 [==============================] - 5s 54ms/step - loss: 3.3197e-05 - mse: 3.3197e-05 - val_loss: 0.0040 - val_mse: 0.0040\n",
      "Epoch 20/40\n",
      "100/100 [==============================] - 5s 46ms/step - loss: 2.9014e-05 - mse: 2.9014e-05 - val_loss: 0.0062 - val_mse: 0.0062\n",
      "Epoch 21/40\n",
      "100/100 [==============================] - 5s 54ms/step - loss: 3.9728e-05 - mse: 3.9728e-05 - val_loss: 0.0015 - val_mse: 0.0015\n",
      "Epoch 22/40\n",
      "100/100 [==============================] - 5s 49ms/step - loss: 3.0313e-05 - mse: 3.0313e-05 - val_loss: 0.0021 - val_mse: 0.0021\n",
      "Epoch 23/40\n",
      "100/100 [==============================] - 5s 47ms/step - loss: 2.9780e-05 - mse: 2.9780e-05 - val_loss: 0.0025 - val_mse: 0.0025\n",
      "Epoch 24/40\n",
      "100/100 [==============================] - 5s 47ms/step - loss: 2.0666e-05 - mse: 2.0666e-05 - val_loss: 0.0011 - val_mse: 0.0011\n",
      "Epoch 25/40\n",
      "100/100 [==============================] - 4s 45ms/step - loss: 2.3864e-05 - mse: 2.3864e-05 - val_loss: 0.0020 - val_mse: 0.0020\n",
      "Epoch 26/40\n",
      "100/100 [==============================] - 5s 52ms/step - loss: 2.3592e-05 - mse: 2.3592e-05 - val_loss: 0.0032 - val_mse: 0.0032\n",
      "Epoch 27/40\n",
      "100/100 [==============================] - 5s 46ms/step - loss: 2.5185e-05 - mse: 2.5185e-05 - val_loss: 0.0026 - val_mse: 0.0026\n",
      "Epoch 28/40\n",
      "100/100 [==============================] - 5s 53ms/step - loss: 2.0026e-05 - mse: 2.0026e-05 - val_loss: 0.0024 - val_mse: 0.0024\n",
      "Epoch 29/40\n",
      "100/100 [==============================] - 6s 58ms/step - loss: 1.8879e-05 - mse: 1.8879e-05 - val_loss: 0.0013 - val_mse: 0.0013\n",
      "Epoch 30/40\n",
      "100/100 [==============================] - 5s 53ms/step - loss: 1.9785e-05 - mse: 1.9785e-05 - val_loss: 0.0024 - val_mse: 0.0024\n",
      "Epoch 31/40\n",
      "100/100 [==============================] - 4s 43ms/step - loss: 1.7599e-05 - mse: 1.7599e-05 - val_loss: 0.0018 - val_mse: 0.0018\n",
      "Epoch 32/40\n",
      "100/100 [==============================] - 4s 40ms/step - loss: 1.8149e-05 - mse: 1.8149e-05 - val_loss: 8.6985e-04 - val_mse: 8.6985e-04\n",
      "Epoch 33/40\n",
      "100/100 [==============================] - 4s 41ms/step - loss: 1.5567e-05 - mse: 1.5567e-05 - val_loss: 0.0015 - val_mse: 0.0015\n",
      "Epoch 34/40\n",
      "100/100 [==============================] - 4s 40ms/step - loss: 1.9404e-05 - mse: 1.9404e-05 - val_loss: 0.0021 - val_mse: 0.0021\n",
      "Epoch 35/40\n",
      "100/100 [==============================] - 4s 42ms/step - loss: 2.5499e-05 - mse: 2.5499e-05 - val_loss: 0.0017 - val_mse: 0.0017\n",
      "Epoch 36/40\n",
      "100/100 [==============================] - 5s 45ms/step - loss: 1.4502e-05 - mse: 1.4502e-05 - val_loss: 0.0025 - val_mse: 0.0025\n",
      "Epoch 37/40\n",
      "100/100 [==============================] - 5s 46ms/step - loss: 1.8578e-05 - mse: 1.8578e-05 - val_loss: 0.0026 - val_mse: 0.0026\n",
      "Epoch 38/40\n",
      "100/100 [==============================] - 4s 41ms/step - loss: 1.4042e-05 - mse: 1.4042e-05 - val_loss: 0.0023 - val_mse: 0.0023\n",
      "Epoch 39/40\n",
      "100/100 [==============================] - 7s 71ms/step - loss: 1.5109e-05 - mse: 1.5109e-05 - val_loss: 0.0015 - val_mse: 0.0015\n",
      "Epoch 40/40\n",
      "100/100 [==============================] - 6s 61ms/step - loss: 1.4032e-05 - mse: 1.4032e-05 - val_loss: 0.0011 - val_mse: 0.0011\n"
     ]
    }
   ],
   "source": [
    "#fit model\n",
    "model = keras.models.Sequential([\n",
    "     keras.layers.LSTM(128,activation='relu', return_sequences=True, input_shape=(None,1)),\n",
    "     keras.layers.LSTM(128,activation='relu'),\n",
    "     keras.layers.Dense(time_ahead)\n",
    "])\n",
    "\n",
    "model.compile(loss='mse', optimizer=\"adam\", metrics=['mse'])\n",
    "history = model.fit(X_train, y_train, epochs=40, verbose=1,  validation_data=(X_test, y_test))"
   ]
  },
  {
   "cell_type": "code",
   "execution_count": 13,
   "metadata": {},
   "outputs": [],
   "source": [
    "y_pred = model.predict(X_test)[:, 0][..., np.newaxis]\n",
    "y_last = price_scaled.flatten()[-time_window:]\n",
    "y_pred30future=[]\n",
    "for _ in range(30):\n",
    "    newX = np.reshape(y_last[-time_window:],(1,time_window,1))\n",
    "    y_pred30future.append(model.predict(newX)[0,0])\n",
    "    y_last=np.append(y_last,np.array(y_pred30future)[-1])"
   ]
  },
  {
   "cell_type": "code",
   "execution_count": 14,
   "metadata": {},
   "outputs": [
    {
     "data": {
      "image/png": "[encoded data removed]",
      "text/plain": [
       "<Figure size 432x288 with 1 Axes>"
      ]
     },
     "metadata": {
      "needs_background": "light"
     },
     "output_type": "display_data"
    }
   ],
   "source": [
    "#Make scaled numbers normal again\n",
    "y_pred_inv = scaler.inverse_transform(y_pred)\n",
    "y_pred30future_inv = scaler.inverse_transform(np.reshape(y_pred30future,(len(y_pred30future),1))) \n",
    "y_test_inv = scaler.inverse_transform(y_test[:,-1])\n",
    "\n",
    "######## Plot Real, Prediction, and 30 Days after ########\n",
    "plt.plot(range(len(y_test)),y_test_inv,\"r-\", label=\"Real\")\n",
    "plt.plot(range(len(y_pred_inv)), y_pred_inv, \"b-\",label=\"Prediction\")\n",
    "plt.plot(range(len(y_pred_inv),len(y_pred_inv)+len(y_pred30future_inv)), y_pred30future_inv, \"g-\",label=\"30 Days Future\")\n",
    "plt.legend(fontsize=12)\n",
    "plt.show()"
   ]
  },
  {
   "cell_type": "code",
   "execution_count": null,
   "metadata": {},
   "outputs": [],
   "source": []
  },
  {
   "cell_type": "code",
   "execution_count": null,
   "metadata": {},
   "outputs": [],
   "source": []
  },
  {
   "cell_type": "code",
   "execution_count": null,
   "metadata": {},
   "outputs": [],
   "source": []
  }
 ],
 "metadata": {
  "kernelspec": {
   "display_name": "Python 3",
   "language": "python",
   "name": "python3"
  },
  "language_info": {
   "codemirror_mode": {
    "name": "ipython",
    "version": 3
   },
   "file_extension": ".py",
   "mimetype": "text/x-python",
   "name": "python",
   "nbconvert_exporter": "python",
   "pygments_lexer": "ipython3",
   "version": "3.8.5"
  }
 },
 "nbformat": 4,
 "nbformat_minor": 4
}
